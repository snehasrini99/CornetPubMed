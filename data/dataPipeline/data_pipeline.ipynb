{
 "cells": [
  {
   "cell_type": "code",
   "execution_count": 2,
   "metadata": {},
   "outputs": [],
   "source": [
    "import json\n",
    "\n",
    "# Load JSON data from a file with ISO-8859-1 encoding\n",
    "with open(\"allMeSH_2022.json\", \"r\", encoding=\"ISO-8859-1\") as file:\n",
    "    data = json.load(file)\n",
    "\n",
    "# # # Extracting abstractText and meshMajor\n",
    "# abstract_texts = [article[\"abstractText\"] for article in data[\"articles\"]]\n",
    "\n",
    "\n",
    "\n",
    "\n",
    "# # Writing to text.txt\n",
    "# with open(\"raw_text.txt\", \"w\", encoding=\"utf-8\") as text_file:\n",
    "#     for abstract in abstract_texts:\n",
    "#         text_file.write(abstract + \"\\n\")\n",
    "\n",
    "\n"
   ]
  },
  {
   "cell_type": "code",
   "execution_count": 9,
   "metadata": {},
   "outputs": [],
   "source": [
    "# Initialize lists to hold text and labels\n",
    "title_abstract_texts = []\n",
    "mesh_majors = []\n",
    "\n",
    "# Initialize lists to hold discarded articles\n",
    "multi_line_abstracts = []\n",
    "multi_line_combined = []\n",
    "\n",
    "# Process articles to extract title_abstract_texts and mesh_majors\n",
    "for article in data[\"articles\"]:\n",
    "    if all(field in article for field in [\"abstractText\", \"title\", \"meshMajor\"]):\n",
    "        abstract = article[\"abstractText\"]\n",
    "        title = article[\"title\"]\n",
    "        mesh_major = article[\"meshMajor\"]\n",
    "\n",
    "        # Check if abstractText contains newline characters\n",
    "        if '\\n' in abstract:\n",
    "            multi_line_abstracts.append(article)\n",
    "            continue\n",
    "\n",
    "        # Concatenate abstractText and title\n",
    "        title_abstract_text = f'{abstract} /SEP/ {title}'\n",
    "\n",
    "        # Check if concatenated text takes more than one line\n",
    "        if '\\n' in title_abstract_text:\n",
    "            multi_line_combined.append(article)\n",
    "            continue\n",
    "\n",
    "        title_abstract_texts.append(title_abstract_text)\n",
    "\n",
    "        # Format each term in meshMajor appropriately\n",
    "        formatted_mesh_major = []\n",
    "        for term in mesh_major:\n",
    "            # Replace spaces with underscores, remove commas, keep hyphens\n",
    "            formatted_term = term.replace(' ', '_').replace(',', '').replace('-', '_')\n",
    "            formatted_mesh_major.append(formatted_term)\n",
    "\n",
    "        # Join terms with spaces\n",
    "        formatted_mesh_major_str = ' '.join(formatted_mesh_major)\n",
    "        mesh_majors.append(formatted_mesh_major_str)\n",
    "\n",
    "# Ensure both lists have the same length\n",
    "assert len(title_abstract_texts) == len(mesh_majors), \"Mismatch in lengths of texts and labels\"\n",
    "\n",
    "# Define the maximum number of lines to write\n",
    "max_lines = 100000\n",
    "\n",
    "# Writing to raw_texts_40K.txt\n",
    "with open(\"raw_texts_100K.txt\", \"w\", encoding=\"utf-8\") as text_file:\n",
    "    for i, title_abstract in enumerate(title_abstract_texts):\n",
    "        if i >= max_lines:\n",
    "            break\n",
    "        text_file.write(title_abstract + \"\\n\")\n",
    "\n",
    "# Writing to raw_labels_40K.txt\n",
    "with open(\"raw_labels_100K.txt\", \"w\", encoding=\"utf-8\") as labels_file:\n",
    "    for i, mesh_major in enumerate(mesh_majors):\n",
    "        if i >= max_lines:\n",
    "            break\n",
    "        labels_file.write(mesh_major + \"\\n\")"
   ]
  },
  {
   "cell_type": "code",
   "execution_count": 8,
   "metadata": {},
   "outputs": [
    {
     "name": "stdout",
     "output_type": "stream",
     "text": [
      "4678\n",
      "67\n"
     ]
    }
   ],
   "source": [
    "print(len(multi_line_abstracts))\n",
    "print(len(multi_line_combined))"
   ]
  },
  {
   "cell_type": "markdown",
   "metadata": {},
   "source": []
  },
  {
   "cell_type": "code",
   "execution_count": 2,
   "metadata": {},
   "outputs": [],
   "source": [
    "# title_abstract_texts = []\n",
    "# mesh_majors = []\n",
    "\n",
    "# # Process articles to extract title_abstract_texts and mesh_majors\n",
    "# for article in data[\"articles\"]:\n",
    "#     if \"abstractText\" in article and \"title\" in article and \"meshMajor\" in article:\n",
    "#         # Concatenate abstractText and title\n",
    "#         title_abstract_text = f'{article[\"abstractText\"]} /SEP/ {article[\"title\"]}'\n",
    "#         title_abstract_texts.append(title_abstract_text)\n",
    "        \n",
    "#         # Format each term in meshMajor appropriately\n",
    "#         formatted_mesh_major = []\n",
    "#         for term in article[\"meshMajor\"]:\n",
    "#             # Replace spaces with underscores, remove commas, keep hyphens\n",
    "#             formatted_term = term.replace(' ', '_').replace(',', '').replace('-', '_')\n",
    "#             formatted_mesh_major.append(formatted_term)\n",
    "        \n",
    "#         # Join terms with spaces\n",
    "#         formatted_mesh_major_str = ' '.join(formatted_mesh_major)\n",
    "#         mesh_majors.append(formatted_mesh_major_str)\n",
    "\n",
    "# # Ensure both lists have the same length\n",
    "# assert len(title_abstract_texts) == len(mesh_majors), \"Mismatch in lengths of texts and labels\"\n",
    "\n",
    "# # Define the maximum number of lines to write\n",
    "# max_lines = 40000\n",
    "\n",
    "# # Writing to raw_text.txt\n",
    "# with open(\"raw_texts_40K.txt\", \"w\", encoding=\"utf-8\") as text_file:\n",
    "#     for i, title_abstract in enumerate(title_abstract_texts):\n",
    "#         if i >= max_lines:\n",
    "#             break\n",
    "#         text_file.write(title_abstract + \"\\n\")\n",
    "\n",
    "# # Writing to raw_labels.txt\n",
    "# with open(\"raw_labels_40K.txt\", \"w\", encoding=\"utf-8\") as labels_file:\n",
    "#     for i, mesh_major in enumerate(mesh_majors):\n",
    "#         if i >= max_lines:\n",
    "#             break\n",
    "#         labels_file.write(mesh_major + \"\\n\")\n"
   ]
  },
  {
   "cell_type": "code",
   "execution_count": 3,
   "metadata": {},
   "outputs": [],
   "source": [
    "# title_abstract_texts = [\n",
    "#     f'{article[\"abstractText\"]} /SEP/ {article[\"title\"]}' for article in data[\"articles\"]\n",
    "# ]\n",
    "\n",
    "# # Writing to raw_text.txt\n",
    "# with open(\"raw_texts.txt\", \"w\", encoding=\"utf-8\") as text_file:\n",
    "#     for title_abstract in title_abstract_texts:\n",
    "#         text_file.write(title_abstract + \"\\n\")\n"
   ]
  },
  {
   "cell_type": "code",
   "execution_count": 2,
   "metadata": {},
   "outputs": [],
   "source": [
    "# mesh_majors = []\n",
    "# for article in data[\"articles\"]:\n",
    "#     # Format each term in meshMajor appropriately\n",
    "#     formatted_mesh_major = []\n",
    "#     for term in article[\"meshMajor\"]:\n",
    "#         # Replace spaces with underscores, remove commas, keep hyphens\n",
    "#         formatted_term = term.replace(' ', '_').replace(',', '').replace('-', '_')\n",
    "#         formatted_mesh_major.append(formatted_term)\n",
    "    \n",
    "#     # Join terms with spaces\n",
    "#     formatted_mesh_major_str = ' '.join(formatted_mesh_major)\n",
    "#     mesh_majors.append(formatted_mesh_major_str)\n",
    "\n",
    "# # Writing to labels.txt with formatted meshMajor\n",
    "# with open(\"labels.txt\", \"w\", encoding=\"utf-8\") as labels_file:\n",
    "#     for mesh_major in mesh_majors:\n",
    "#         labels_file.write(mesh_major + \"\\n\")"
   ]
  },
  {
   "cell_type": "code",
   "execution_count": 13,
   "metadata": {},
   "outputs": [
    {
     "name": "stdout",
     "output_type": "stream",
     "text": [
      "BACKGROUND: Worldwide, hypertensive disorders of pregnancy (HDP), fetal growth restriction (FGR) and preterm birth remain the leading causes of maternal and fetal pregnancy-related mortality and (long-term) morbidity. Fetal cardiac deformation changes can be the first sign of placental dysfunction, which is associated with HDP, FGR and preterm birth. In addition, preterm birth is likely associated with changes in electrical activity across the uterine muscle. Therefore, fetal cardiac function and uterine activity can be used for the early detection of these complications in pregnancy. Fetal cardiac function and uterine activity can be assessed by two-dimensional speckle-tracking echocardiography (2D-STE), non-invasive fetal electrocardiography (NI-fECG), and electrohysterography (EHG). This study aims to generate reference values for 2D-STE, NI-fECG and EHG parameters during the second trimester of pregnancy and to investigate the diagnostic potential of these parameters in the early detection of HDP, FGR and preterm birth.METHODS: In this longitudinal prospective cohort study, eligible women will be recruited from a tertiary care hospital and a primary midwifery practice. In total, 594 initially healthy pregnant women with an uncomplicated singleton pregnancy will be included. Recordings of NI-fECG and EHG will be made weekly from 22 until 28 weeks of gestation and 2D-STE measurements will be performed 4-weekly at 16, 20, 24 and 28 weeks gestational age. Retrospectively, pregnancies complicated with pregnancy-related diseases will be excluded from the cohort. Reference values for 2D-STE, NI-fECG and EHG parameters will be assessed in uncomplicated pregnancies. After, 2D-STE, NI-fCG and EHG parameters measured during gestation in complicated pregnancies will be compared with these reference values.DISCUSSION: This will be the a large prospective study investigating new technologies that could potentially have a high impact on antepartum fetal monitoring.TRIAL REGISTRATION: Registered on 26 March 2020 in the Dutch Trial Register (NL8769) via https://www.trialregister.nl/trials and registered on 21 October 2020 to the Central Committee on Research Involving Human Subjects (NL73607.015.20) via https://www.toetsingonline.nl/to/ccmo_search.nsf/Searchform?OpenForm . /SEP/ Non-invasive fetal electrocardiography, electrohysterography and speckle-tracking echocardiography in the second trimester: study protocol of a longitudinal prospective cohort study (BEATS-study).\n",
      "Rapid isolation of white blood cells (WBCs) from whole blood is an essential part of any WBC examination platform. However, most conventional cell separation techniques are labor-intensive and low throughput, require large volumes of samples, need extensive cell manipulation, and have low purity. To address these challenges, we report the design and fabrication of a passive, label-free microfluidic device with a unique U-shaped cross-section to separate WBCs from whole blood using hydrodynamic forces that exist in a microchannel with curvilinear geometry. It is shown that the spiral microchannel with a U-shaped cross-section concentrates larger blood cells (e.g., WBCs) in the inner cross-section of the microchannel by moving smaller blood cells (e.g., RBCs and platelets) to the outer microchannel section and preventing them from returning to the inner microchannel section. Therefore, it overcomes the major limitation of a rectangular cross-section where secondary Dean vortices constantly enforce particles throughout the entire cross-section and decrease its isolation efficiency. Under optimal settings, we managed to isolate more than 95% of WBCs from whole blood under high-throughput (6 mL/min), high-purity (88%), and high-capacity (360 mL of sample in 1 h) conditions. High efficiency, fast processing time, and non-invasive WBC isolation from large blood samples without centrifugation, RBC lysis, cell biomarkers, and chemical pre-treatments make this method an ideal choice for downstream cell study platforms. /SEP/ High-Throughput, Label-Free Isolation of White Blood Cells from Whole Blood Using Parallel Spiral Microchannels with U-Shaped Cross-Section.\n",
      "CH3NH3PbBr3 perovskite thin film is used as a guided-wave layer and coated on the surface of an Au film to form the Au-perovskite hybrid structure. Using the hybrid structure, a perovskite-based guided-wave surface plasmon resonance (GWSPR) biosensor is proposed with high angular sensitivity. First, it is found that the electric field at the sensing interface is improved by the CH3NH3PbBr3 perovskite thin film, thereby enhancing the sensitivity. The result demonstrates that the angular sensitivity of the Au-perovskite-based GWSPR biosensor is as high as 278.5°/RIU, which is 110.2% higher than that of a conventional Au-based surface plasmon resonance (SPR) biosensor. Second, the selection of the coupling prism in the configuration of the GWSPR biosensor is also analyzed, and it indicates that a low refractive index (RI) prism can generate greater sensitivity. Therefore, the low-RI BK7 prism is served as the coupling prism for the proposed GWSPR biosensor. Finally, the proposed GWSPR sensing structure can not only be used for liquid sensing, but also for gas sensing, and it has also been demonstrated that the GWSPR gas sensor is 2.8 times more sensitive than the Au-based SPR gas sensor. /SEP/ CH3NH3PbBr3 Thin Film Served as Guided-Wave Layer for Enhancing the Angular Sensitivity of Plasmon Biosensor.\n",
      "Toxic organochloride molecules are widely used in industry for various purposes. With their high volatility, the direct detection of organochlorides in environmental samples is challenging. Here, a new organochloride detection mechanism using 1,5-diazabicyclo[4.3.0]non-5-ene (DBN) is introduced to simplify a sensing method with higher detection sensitivity. Three types of organochloride compounds-trichloroethylene (TCE), dichloromethane (DCM), and dichlorodiphenyltrichloroethane (DDT)-were targeted to understand DCM conjugation chemistry by using nuclear magnetic resonance (NMR) and liquid chromatography with a mass spectrometer (LC-MS). 13C-NMR spectra and LC-MS data indicated that DBN can be labeled on these organochloride compounds by chlorine-nitrogen interaction. Furthermore, to demonstrate the organochloride sensing capability, the labeling yield and limit of detection were determined by a colorimetric assay as well as micellar electrokinetic chromatography (MEKC). The interaction with DBN was most appreciable for TCE, among other organochlorides. TCE was detected at picomolar levels, which is two orders of magnitude lower than the maximum contaminant level set by the United States Environmental Protection Agency. MEKC, in conjunction with this DBN-labeling method, enables us to develop a field-deployable sensing platform for detecting toxic organochlorides with high sensitivity. /SEP/ Sensing Techniques for Organochlorides through Intermolecular Interaction with Bicyclic Amidines.\n",
      "Suspended particles play a significant role in aquatic systems. However, existing methods to probe suspended particles have several limitations. In this paper, we present a portable prototype to in situ probe individual particles in aquatic suspensions by simultaneously measuring polarized light scattering and fluorescence, aiming to obtain an effective classification of microplastics and microalgae. Results show that the obtained classification accuracy is significantly higher than that for either of these two methods. The setup also successfully measures submicron particles and discriminates two species of Synechococcus. Our study demonstrates the feasibility of simultaneously measuring polarized light scattering and fluorescence, and the promising capability of our method for further aquatic environmental monitoring. /SEP/ Probing Individual Particles in Aquatic Suspensions by Simultaneously Measuring Polarized Light Scattering and Fluorescence.\n",
      "Recent advances suggest that miniaturised mid-infrared (MIR) devices could replace more time-consuming, laboratory-based techniques for clinical diagnostics. This work uses Fourier transform infrared spectroscopy to show that the MIR complex refractive index of whole blood varies across a range of haematocrit. This indicates that the use of an evanescent measurement is not sufficient to optically exclude the cellular content of blood in the MIR, as previously assumed. Here, spectral refractive index data is presented in two ways. First, it is given as whole blood with varying haematocrit. Second, it is given as the percentage error that haematocrit introduces to plasma. The maximum error in the effective plasma refractive index due to the haematocrit of healthy adults was 0.25% for the real part n and 11% for the imaginary part k. This implies that calibration measurements of haematocrit can be used to account for errors introduced by the cellular content, enabling plasma spectra and analyte concentrations to be indirectly calculated from a whole blood sample. This methodological advance is of clinical importance as plasma concentration of analytes such as drugs can be determined using MIR without the preprocessing of whole blood. /SEP/ The Effect of Haematocrit on Measurement of the Mid-Infrared Refractive Index of Plasma in Whole Blood.\n",
      "Masses are one of the early signs of breast cancer, and the survival rate of women suffering from breast cancer can be improved if masses can be correctly identified as benign or malignant. However, their classification is challenging due to the similarity in texture patterns of both types of mass. The existing methods for this problem have low sensitivity and specificity. Based on the hypothesis that diverse contextual information of a mass region forms a strong indicator for discriminating benign and malignant masses and the idea of the ensemble classifier, we introduce a computer-aided system for this problem. The system uses multiple regions of interest (ROIs) encompassing a mass region for modeling diverse contextual information, a single ResNet-50 model (or its density-specific modification) as a backbone for local decisions, and stacking with SVM as a base model to predict the final decision. A data augmentation technique is introduced for fine-tuning the backbone model. The system was thoroughly evaluated on the benchmark CBIS-DDSM dataset using its provided data split protocol, and it achieved a sensitivity of 98.48% and a specificity of 92.31%. Furthermore, it was found that the system gives higher performance if it is trained and tested using the data from a specific breast density BI-RADS class. The system does not need to fine-tune/train multiple CNN models; it introduces diverse contextual information by multiple ROIs. The comparison shows that the method outperforms the state-of-the-art methods for classifying mass regions into benign and malignant. It will help radiologists reduce their burden and enhance their sensitivity in the prediction of malignant masses. /SEP/ Breast Mass Classification Using Diverse Contextual Information and Convolutional Neural Network.\n",
      "The measurement of cysteine in human urine and live cells is crucial for evaluating biological metabolism, monitoring and maintaining the immune system, preventing tissue/DNA damage caused by free radicals, preventing autoimmune diseases, and diagnosing disorders such as cystinuria and cancer. A method that uses a fluorescence turn-on probe and a portable fluorescence spectrometer device are crucial for highly sensitive, simple, rapid, and inexpensive cysteine detection. Herein, we present the synthesis and application of a benzimidazole-based fluorescent probe (ABIA) along with the design and development of a portable fluorescence spectrometer device (CysDDev) for detecting cysteine in simulated human urine. ABIA showed excellent selectivity and sensitivity in detecting cysteine over homocysteine, glutathione, and other amino acids with the response time of 1 min and demonstrated a detection limit of 16.3 nM using the developed CysDDev. Further, ABIA also demonstrated its utility in detecting intracellular cysteine, making it an excellent probe for bio-imaging assay. /SEP/ Development of a Novel Benzimidazole-Based Probe and Portable Fluorimeter for the Detection of Cysteine in Human Urine.\n",
      "BACKGROUND: HIV testing at antenatal care (ANC) is critical to achieving zero new infections in sub-Saharan Africa. Although most women are tested at ANC, they remain at risk for HIV exposure and transmission to their infant when their partners are not tested. This study evaluates how an HIV-enhanced and Centering-based group ANC model-Group ANC+ that uses interactive learning to practice partner communication is associated with improvements in partner HIV testing during pregnancy.METHODS: A randomized pilot study conducted in Malawi and Tanzania found multiple positive outcomes for pregnant women (n = 218) assigned to Group ANC+ versus individual ANC. This analysis adds previously unpublished results for two late pregnancy outcomes: communication with partner about three reproductive health topics (safer sex, HIV testing, and family planning) and partner HIV testing since the first antenatal care visit. Multivariate logistic regression models were used to assess the effect of type of ANC on partner communication and partner testing. We also conducted a mediation analysis to assess whether partner communication mediated the effect of type of care on partner HIV testing.RESULTS: Nearly 70% of women in Group ANC+ reported communicating about reproductive health with their partner, compared to 45% of women in individual ANC. After controlling for significant covariates, women in group ANC were twice as likely as those in individual ANC to report that their partner got an HIV test (OR 1.99; 95% CI: 1.08, 3.66). The positive effect of the Group ANC + model on partner HIV testing was fully mediated by increased partner communication.CONCLUSIONS: HIV prevention was included in group ANC health promotion without compromising services and coverage of standard ANC topics, demonstrating that local high-priority health promotion needs can be integrated into ANC using a Group ANC+. These findings provide evidence that greater partner communication can promote healthy reproductive behaviors, including HIV prevention. Additional research is needed to understand the processes by which group ANC allowed women to discuss sensitive topics with partners and how these communications led to partner HIV testing. /SEP/ A randomized group antenatal care pilot showed increased partner communication and partner HIV testing during pregnancy in Malawi and Tanzania.\n",
      "Oral booster-single strain probiotic bifidobacteria could be a potential strategy for SARS-CoV-2. This study aims to evaluate the role of oral probiotic Bifidobacterium on moderate/severe SARS-CoV-2 inpatients. In this single-center study, we analyzed data of 44 moderate/severe inpatients with diagnosed COVID-19 in Istanbul Maltepe University Medical Faculty Hospital, 2020 from 1 November 2020 to 15 December 2020. Clinical and medication features were compared and analyzed between patients with or without probiotic. In result, 19 of the 44 patients (43.18%) who were administrated with oral booster-single strain probiotic were discharged with the median inpatient day of 7.6 days which were significantly shorter than those of patients without probiotic. There were significant differences in inpatient days, radiological improvement at day 6 and week 3, and reduction in interleukin-6 levels in those receiving oral probiotic therapy. Although the mortality rate was 5% in the probiotic group, it was 25% in the non-probiotic group. Booster-single strain probiotic bifidobacteria could be an effective treatment strategy for moderate/severe SARS-CoV-2 inpatients to reduce the mortality and length of stay in hospital. /SEP/ Oral booster probiotic bifidobacteria in SARS-COV-2 patients.\n",
      "Adult Echocardiography Electrocardiography Female Fetal_Growth_Retardation Heart_Rate_Fetal Humans Hypertension_Pregnancy_Induced Longitudinal_Studies Netherlands Pregnancy Pregnancy_Trimester_Second Premature_Birth Prenatal_Diagnosis Prospective_Studies Uterine_Monitoring Uterus\n",
      "Cell_Separation Lab_On_A_Chip_Devices Leukocytes Microfluidic_Analytical_Techniques Microfluidics\n",
      "Biosensing_Techniques Calcium_Compounds Oxides Refractometry Surface_Plasmon_Resonance Titanium\n",
      "Amidines Biosensing_Techniques Chlorides United_States\n",
      "Environmental_Monitoring Light Plastics Scattering_Radiation Suspensions\n",
      "Hematocrit Humans Pharmaceutical_Preparations Plasma Refractometry Spectroscopy_Fourier_Transform_Infrared\n",
      "Breast Breast_Neoplasms Female Humans Mammography Neural_Networks_Computer Research_Design\n",
      "Benzimidazoles Cysteine Fluorescent_Dyes Glutathione Humans Spectrometry_Fluorescence\n",
      "Adult Female HIV_Infections HIV_Testing Health_Promotion Humans Interpersonal_Relations Malawi Pilot_Projects Pregnancy Prenatal_Care Random_Allocation Sexual_Partners Tanzania Young_Adult\n",
      "Bifidobacterium COVID_19 Female Hospitalization Humans Immunologic_Factors Interleukin_6 Length_of_Stay Male Middle_Aged Mortality Probiotics Retrospective_Studies SARS_CoV_2 Severity_of_Illness_Index Treatment_Outcome Turkey\n"
     ]
    }
   ],
   "source": [
    "def read_first_lines(file_path, num_lines=10):\n",
    "    with open(file_path, 'r') as file:\n",
    "        for _ in range(num_lines):\n",
    "            line = file.readline()\n",
    "            if line:\n",
    "                print(line.strip())\n",
    "            else:\n",
    "                break\n",
    "\n",
    "# Usage\n",
    "file_path1 = 'raw_texts_100K.txt'\n",
    "read_first_lines(file_path1, 10)\n",
    "\n",
    "file_path2 = 'raw_labels_100K.txt'\n",
    "read_first_lines(file_path2, 10)\n"
   ]
  },
  {
   "cell_type": "code",
   "execution_count": 10,
   "metadata": {},
   "outputs": [
    {
     "name": "stdout",
     "output_type": "stream",
     "text": [
      "The file raw_labels_100K.txt has 100000 lines.\n",
      "The file raw_texts_100K.txt has 100000 lines.\n"
     ]
    }
   ],
   "source": [
    "#check the length of the labels and texts\n",
    "\n",
    "def count_lines(file_path):\n",
    "    with open(file_path, 'r') as file:\n",
    "        count = sum(1 for _ in file)\n",
    "    return count\n",
    "\n",
    "# Usage\n",
    "input_file = 'raw_labels_100K.txt'\n",
    "length = count_lines(input_file)\n",
    "print(f\"The file {input_file} has {length} lines.\")\n",
    "input_file = 'raw_texts_100K.txt'\n",
    "length = count_lines(input_file)\n",
    "print(f\"The file {input_file} has {length} lines.\")\n"
   ]
  },
  {
   "cell_type": "code",
   "execution_count": 11,
   "metadata": {},
   "outputs": [
    {
     "name": "stdout",
     "output_type": "stream",
     "text": [
      "File cleaned successfully. Cleaned output saved to labels_100K.txt\n"
     ]
    }
   ],
   "source": [
    "# Clean the labels\n",
    "\n",
    "# remove punctuation and lowercase\n",
    "\n",
    "import string\n",
    "import re\n",
    "\n",
    "def clean_text(text):\n",
    "    # Define punctuation to remove, excluding hyphen and underscore\n",
    "    punctuation_to_remove = string.punctuation.replace('-', '').replace('_', '')\n",
    "    \n",
    "    # Remove specified punctuation\n",
    "    cleaned_text = text.translate(str.maketrans('', '', punctuation_to_remove))\n",
    "    \n",
    "    # Convert to lowercase\n",
    "    cleaned_text = cleaned_text.lower()\n",
    "    \n",
    "    return cleaned_text\n",
    "\n",
    "input_file = 'raw_labels_100K.txt'  # Replace with your input file path\n",
    "output_file = 'labels_100K.txt'  # Replace with your output file path\n",
    "\n",
    "with open(input_file, 'r', encoding='utf-8') as f_input, \\\n",
    "     open(output_file, 'w', encoding='utf-8') as f_output:\n",
    "\n",
    "    for line in f_input:\n",
    "        cleaned_line = clean_text(line.strip())  # Strip to remove leading/trailing whitespace\n",
    "        f_output.write(cleaned_line + '\\n')\n",
    "\n",
    "print(f\"File cleaned successfully. Cleaned output saved to {output_file}\")\n",
    "\n"
   ]
  },
  {
   "cell_type": "code",
   "execution_count": 14,
   "metadata": {},
   "outputs": [
    {
     "name": "stdout",
     "output_type": "stream",
     "text": [
      "adult echocardiography electrocardiography female fetal_growth_retardation heart_rate_fetal humans hypertension_pregnancy_induced longitudinal_studies netherlands pregnancy pregnancy_trimester_second premature_birth prenatal_diagnosis prospective_studies uterine_monitoring uterus\n",
      "cell_separation lab_on_a_chip_devices leukocytes microfluidic_analytical_techniques microfluidics\n",
      "biosensing_techniques calcium_compounds oxides refractometry surface_plasmon_resonance titanium\n",
      "amidines biosensing_techniques chlorides united_states\n",
      "environmental_monitoring light plastics scattering_radiation suspensions\n",
      "hematocrit humans pharmaceutical_preparations plasma refractometry spectroscopy_fourier_transform_infrared\n",
      "breast breast_neoplasms female humans mammography neural_networks_computer research_design\n",
      "benzimidazoles cysteine fluorescent_dyes glutathione humans spectrometry_fluorescence\n",
      "adult female hiv_infections hiv_testing health_promotion humans interpersonal_relations malawi pilot_projects pregnancy prenatal_care random_allocation sexual_partners tanzania young_adult\n",
      "bifidobacterium covid_19 female hospitalization humans immunologic_factors interleukin_6 length_of_stay male middle_aged mortality probiotics retrospective_studies sars_cov_2 severity_of_illness_index treatment_outcome turkey\n",
      "The file labels_100K.txt has 100000 lines.\n"
     ]
    }
   ],
   "source": [
    "read_first_lines('labels_100K.txt', 10)\n",
    "#check the length of the labels and texts\n",
    "\n",
    "def count_lines(file_path):\n",
    "    with open(file_path, 'r') as file:\n",
    "        count = sum(1 for _ in file)\n",
    "    return count\n",
    "\n",
    "# Usage\n",
    "input_file = 'labels_100K.txt'\n",
    "length = count_lines(input_file)\n",
    "print(f\"The file {input_file} has {length} lines.\")\n",
    "\n"
   ]
  },
  {
   "cell_type": "markdown",
   "metadata": {},
   "source": []
  },
  {
   "cell_type": "code",
   "execution_count": 15,
   "metadata": {},
   "outputs": [
    {
     "name": "stdout",
     "output_type": "stream",
     "text": [
      "Data has been successfully split into training and testing sets.\n"
     ]
    }
   ],
   "source": [
    "#split test and train\n",
    "\n",
    "import random\n",
    "\n",
    "# Read the contents of raw_texts.txt\n",
    "with open('raw_texts_100K.txt', 'r') as file:\n",
    "    raw_texts = file.readlines()\n",
    "\n",
    "# Read the contents of labels.txt\n",
    "with open('labels_100K.txt', 'r') as file:\n",
    "    labels = file.readlines()\n",
    "\n",
    "# Ensure both files have the same number of lines\n",
    "assert len(raw_texts) == len(labels), \"The number of lines in raw_texts.txt and labels.txt must match.\"\n",
    "\n",
    "# Combine the texts and labels into pairs\n",
    "data = list(zip(raw_texts, labels))\n",
    "\n",
    "# Shuffle the data to ensure randomness\n",
    "random.shuffle(data)\n",
    "\n",
    "# Split the data into training and testing sets (80% training, 20% testing)\n",
    "split_index = int(0.8 * len(data))\n",
    "train_data = data[:split_index]\n",
    "test_data = data[split_index:]\n",
    "\n",
    "# Separate the training data into texts and labels\n",
    "train_texts, train_labels = zip(*train_data)\n",
    "\n",
    "# Separate the testing data into texts and labels\n",
    "test_texts, test_labels = zip(*test_data)\n",
    "\n",
    "# Write the training texts to train_raw_texts.txt\n",
    "with open('train_raw_texts_100K.txt', 'w') as file:\n",
    "    file.writelines(train_texts)\n",
    "\n",
    "# Write the training labels to train_labels.txt\n",
    "with open('train_labels_100K.txt', 'w') as file:\n",
    "    file.writelines(train_labels)\n",
    "\n",
    "# Write the testing texts to test_raw_texts.txt\n",
    "with open('test_raw_texts_100K.txt', 'w') as file:\n",
    "    file.writelines(test_texts)\n",
    "\n",
    "# Write the testing labels to test_labels.txt\n",
    "with open('test_labels_100K.txt', 'w') as file:\n",
    "    file.writelines(test_labels)\n",
    "\n",
    "print(\"Data has been successfully split into training and testing sets.\")\n"
   ]
  },
  {
   "cell_type": "code",
   "execution_count": 16,
   "metadata": {},
   "outputs": [
    {
     "name": "stdout",
     "output_type": "stream",
     "text": [
      "BACKGROUND: Previous CT and cadaver studies have suggested that the external obturator footprint might be used as a landmark for stem depth in direct anterior THA. Instructions on where to template this structure with small variability in height have been developed but have not been tested in daily clinical practice.QUESTIONS/PURPOSES: In this study we sought to investigate the (1) usability, (2) accuracy, and (3) reliability of the external obturator footprint as a landmark for stem depth in direct anterior THA.METHODS: The distance between the superior border of the external obturator tendon and the shoulder of the stem was measured intraoperatively in all patients (n = 135) who underwent primary THA via a direct anterior approach performed by the senior author between November 2019 and October 2020. The landmark was considered useful when two of thre`e evaluators agreed that the intersection of the vertical line comprised of the lateral wall of the trochanteric fossa and the oblique line formed by the intertrochanteric crest was clearly visible on the preoperative planning radiograph, and when the landmark was furthermore identified with certainty during surgery. Accuracy was defined as the degree of agreement (categorical for thresholds of 2 and 5 mm, the latter representing the threshold for developing unphysiological gait parameters) between the intraoperative distance and radiographic distance as measured on intraoperative fluoroscopy images or postoperative radiographs, which were calibrated based on femoral head sizes in a software program commonly used for templating. Intrarater reliability was defined as the degree of agreement (categorical for thresholds of 1 mm, which we considered an acceptable measurement error) between the ratings of one observer, who measured the radiographic distance on two different occasions separated by a washout period of at least 2 weeks. Interrater reliability was defined as the degree of agreement (categorical for thresholds of 1 mm, which we considered an acceptable measurement error) between the ratings of three observers with varying levels of experience (a fellowship-trained hip surgeon, a hip surgery fellow, and a medical student).RESULTS: The landmark was considered useful in 77% (104 of 135) of patients who underwent direct anterior THA based on the observations that the trochanteric fossa was clearly visible on the planning radiograph in 117 patients and that the tendon was identified with certainty during surgery in 118 patients. There was good-to-excellent accuracy (intraclass correlation coefficient 0.75-087), and intrarater reliability (ICC 0.99) and interrater reliability (ICC 0.99) were both excellent.CONCLUSION: This clinical study showed that the external obturator footprint is a useful, accurate, and reliable landmark for stem depth in direct anterior THA.CLINICAL RELEVANCE: The external obturator landmark allows the surgeon to position the stem within a range of the templated depth that is beneath the threshold for the development of unphysiological gait parameters. Although strictly speaking it was found useful in 77% of patients in this study, we found that this percentage of usability can easily be improved to around 90% by providing the radiology lab technician with instructions to correct external rotation of the foot during the taking of the planning radiograph. Future studies could compare the established (in)equality in leg length in patients using the external obturator landmark with computer-assisted surgery. /SEP/ The External Obturator Footprint Is a Usable, Accurate, and Reliable Landmark for Stem Depth in Direct Anterior THA.\n",
      "INTRODUCTION: Use of virtual reality (VR) in healthcare has expanded in recent years. The challenges faced by patients with prolonged COVID-19-related hospitalizations - social isolation, disability, neurologic sequelae, adjustment-related anxiety, depression, and stress - may be mitigated by the novel use of VR as one modality of a comprehensive rehabilitation plan. This descriptive study aimed to understand patient satisfaction and perceived benefit of virtual reality on a COVID-19 recovery unit, as well as the logistical and operational feasibility of providing VR content for patients and staff.MATERIALS AND METHODS: During the COVID-19 surge in New York City in 2020, the COVID-19 Recovery Unit (CRU) of a large academic hospital invited patients and staff to participate in VR sessions with three categories of experience: (1) Guided meditation, (2) Exploration of natural environments, (3) Cognitive stimulation games. Patients and staff were surveyed about satisfaction and perceived benefit.RESULTS: 13 patients and 11 staff were surveyed, with median patient satisfaction scores of 9 out of 10, with ten representing \"extremely satisfied,\" and median staff satisfaction scores of 10. 13/13 patients answered \"yes\" to recommending the therapy to others, and 12/13 answered \"yes\" to perceived enhancement of their treatment. 11/11 staff answered \"yes\" to recommending the therapy to others, and 11/11 answered \"yes\" to perceived enhancement of their wellbeing.DISCUSSION: A VR program implemented on a COVID-19 rehabilitation unit for patients and healthcare providers was rated as highly satisfactory with perceived benefit by survey respondents. Participants commented that the use of VR was useful in coping with isolation and loneliness, and could be implemented within the context of clinical care for COVID-19 patients as part of a comprehensive rehabilitation model. The use of VR was also logistically and operationally feasible on the CRU. Future work to compare benefits of VR to standard neuropsychological rehabilitation is needed. /SEP/ Use of virtual reality in the inpatient rehabilitation of COVID-19 patients.\n",
      "Cancer is one of the deadliest illness globally. Searching for new solutions in cancer treatments is essential because commonly used mixed, targeted and personalized therapies are sometimes not sufficient or are too expensive for common patients. Sugar fatty acid esters (SFAEs) are already well-known as promising candidates for an alternative medical tool. The manuscript brings the reader closer to methods of obtaining various SFAEs using combined biological, chemical and enzymatic methods. It presents how modification of SFAE's hydrophobic chains can influence their cytotoxicity against human skin melanoma and prostate cancer cell lines. The compound's cytotoxicity was determined by an MTT assay, which followed an assessment of SFAEs' potential metastatic properties in concentrations below IC50 values. Despite relatively high IC50 values (63.3-1737.6 ìM) of the newly synthesized SFAE, they can compete with other sugar esters already described in the literature. The chosen bioactives caused low polymerization of microtubules and the depolymerization of actin filaments in nontoxic levels, which suggest an apoptotic rather than metastatic process. Altogether, cancer cells showed no propensity for metastasis after treating them with SFAE. They confirmed that lactose-based compounds seem the most promising surfactants among tested sugar esters. This manuscript creates a benchmark for creation of novel anticancer agents based on 3-hydroxylated fatty acids of bacterial origin. /SEP/ In Search of Effective Anticancer Agents-Novel Sugar Esters Based on Polyhydroxyalkanoate Monomers.\n",
      "A method for rearing the southern green stinkbug, (Nezara viridula L.) (Heteroptera: Pentatomidae), using a modified lygus semi-solid artificial diet was developed. First to second-instar nymph were reared in a density of 631.5 ± 125.05 eggs per Petri-dish (4 cm deep ? 15 cm diam). Second instar to adult were reared in a density of 535.0 ± 112.46 s instar nymphs per rearing cage (43 ? 28 ? 9 cm). Mating and oviposition occurred in popup rearing cages (30 ? 30 cm), each holding 60-90 mixed sex adults of similar age. Adults emerged 35.88 ± 2.13 d after oviposition and survived for an average of 43.09 ± 9.53 d. On average, adults laid 223.95 ± 69.88 eggs in their lifetime, for a total production of 8,099 ± 1,277 fertile eggs/oviposition cage. Egg fertility was 77.93% ± 16.28. Egg masses held in petri-dishes had a total hatchability of 79.38% ± 20.03. Mortality of early nymphs in petri-dishes was 0.64% ± 0.12 for the first instar and 1.37% ± 0.45 for second instar. Late nymphal mortality in rearing cages was 1.41% ± 0.10, 3.47% ± 1.27, and 4.72% ± 1.29 for the third, fourth, and fifth instars, respectively. Survivorship from nymphs to adults was 88.48% ± 2.76. Using artificial diet for rearing N. viridula could reduce cost by avoiding time-consuming issues with daily feeding fresh natural hosts and insect manipulation. It could increase reliability and simplicity of bug production, which should facilitate mass rearing of its biological control agents. /SEP/ Development of a Method for Rearing Nezara viridula (Heteroptera: Pentatomidae) on a Semi-solid Artificial Diet.\n",
      "BACKGROUND: Nursing faculty continually seek new teaching strategies to promote prelicensure nursing students' critical thinking. Students construct new knowledge through experience. Esthetic learning methodologies involve gaining knowledge and insight through emotive, firsthand experiences. The esthetic experience of watching a movie, coupled with reflective journaling, has been used with health care students to promote learning. However, little is documented in the literature on its use with nursing students or its influence on the formulation of critical thinking skills.METHOD: This descriptive qualitative study explored the impact of watching the movie, Sully, followed by structured reflective journaling on critical thinking of prelicensure nursing students.RESULTS: Themes were identified which demonstrated students' insights into the components of critical thinking and expert thinking.CONCLUSION: Esthetic learning is a promising teaching approach that addresses multiple ways of knowing, thereby enhancing students' learning about critical thinking in a prelicensure education program. [J Nurs Educ. 2021;60(5):281-285.]. /SEP/ From Sully to Nightingale: Critical Thinking Through Esthetic Learning.\n",
      "Triplet exciton formation is essential for photosensitization-based photochemistry and photobiology. The heavy atom effect (HAE), in the form of either external or internal mode, is a basic mechanism for increasing the triplet exciton yield of photosensitizers. Herein, we report a new HAE mode by noncovalent cohosting of heavy atoms and photosensitizers in a double-stranded DNA (dsDNA) matrix. With dsDNA bearing several thymine (T) or cytosine (C) mismatches, heavy atoms (e.g., Hg2+ or Ag+) and dsDNA-staining dyes (photosensitizers) were spatially adjoined in close proximity, thus resulting in enhanced phosphorescence and 1O2 generation from the photosensitizers. The dsDNA-hosted HAE provides highly selective recognition for the heavy atoms, which is not applicable in either the external or the internal mode. Considering the simpleness and efficiency of the spatially adjoined HAE, as well as the functionality of DNA, the proposed HAE mode is appealing for various singlet oxygen- and phosphorescence-related applications. /SEP/ Selective Heavy Atom Effect Forming Photosensitizing Hot Spots in Double-Stranded DNA Matrix.\n",
      "Transplanted glial-restricted progenitor (GRP) cells have potential to focally replace defunct astrocytes and produce remyelinating oligodendrocytes to avert neuronal death and dysfunction. However, most central nervous system cell therapeutic paradigms are hampered by high initial cell death and a host anti-graft immune response. We show here that composite hyaluronic acid-based hydrogels of tunable mechanical strengths can significantly improve transplanted GRP survival and differentiation. Allogeneic GRPs expressing green fluorescent protein and firefly luciferase were scaffolded in optimized hydrogel formulations and transplanted intracerebrally into immunocompetent BALB/c mice followed by serial in vivo bioluminescent imaging and chemical exchange saturation transfer magnetic resonance imaging (CEST MRI). We demonstrate that gelatin-sensitive CEST MRI can be exploited to monitor hydrogel scaffold degradation in vivo for ?5 weeks post transplantation without necessitating exogenous labeling. Hydrogel scaffolding of GRPs resulted in a 4.5-fold increase in transplanted cell survival at day 32 post transplantation compared to naked cells. Histological analysis showed significant enhancement of cell proliferation as well as Olig2+ and GFAP+ cell differentiation for scaffolded cells compared to naked cells, with reduced host immunoreactivity. Hence, hydrogel scaffolding of transplanted GRPs in conjunction with serial in vivo imaging of cell survival and hydrogel degradation has potential for further advances in glial cell therapy. /SEP/ In Vivo Imaging of Allografted Glial-Restricted Progenitor Cell Survival and Hydrogel Scaffold Biodegradation.\n",
      "BACKGROUND: Recurrent vasovagal syncope is common, responds poorly to treatment, and causes physical trauma and poor quality of life. Midodrine prevents hypotension and syncope during tilt tests in patients with vasovagal syncope.OBJECTIVE: To determine whether midodrine can prevent vasovagal syncope in usual clinical conditions.DESIGN: Randomized, double-blind, placebo-controlled clinical trial. (ClinicalTrials.gov: NCT01456481).SETTING: 25 university hospitals in Canada, the United States, Mexico, and the United Kingdom.PATIENTS: Patients with recurrent vasovagal syncope and no serious comorbid conditions.INTERVENTION: Patients were randomly assigned 1:1 to placebo or midodrine and followed for 12 months.MEASUREMENTS: The primary outcome measure was the proportion of patients with at least 1 syncope episode during follow-up.RESULTS: The study included 133 patients who had had a median of 6 syncope episodes in the prior year (median age, 32 years; 73% female). Compared with patients receiving placebo, fewer patients receiving midodrine had at least 1 syncope episode (28 of 66 [42%] vs. 41 of 67 [61%]). The relative risk was 0.69 (95% CI, 0.49 to 0.97; P = 0.035). The absolute risk reduction was 19 percentage points (CI, 2 to 36 percentage points), and the number needed to treat to prevent 1 patient from having syncope was 5.3 (CI, 2.8 to 47.6). The time to first syncope was longer with midodrine (hazard ratio, 0.59 [CI, 0.37 to 0.96]; P = 0.035; log-rank P = 0.031). Adverse effects were similar in both groups.LIMITATION: Small study size, young and healthy patients, relatively short observation period, and high proportion of patients from 1 center.CONCLUSION: Midodrine can reduce the recurrence of syncope in healthy, younger patients with a high syncope burden.PRIMARY FUNDING SOURCE: The Canadian Institutes of Health Research. /SEP/ Midodrine for the Prevention of Vasovagal Syncope : A Randomized Clinical Trial.\n",
      "INTRODUCTION: Coastal locations contribute significantly to global drowning, with surfers frequently conducting rescues. This study explored the characteristics of surfers as bystander rescuers in Europe.METHODS: A cross-sectional online survey collected demographics (age, sex, geographical location), surfing experience, ability, lifesaving and cardiopulmonary resuscitation (CPR) training, information seeking behaviors and previous performance of a rescue. Analyses comprised descriptive frequencies, binomial logistic regression with adjusted odds ratio (AOR) (95% confidence interval [CI]) and chi-squares (p < .05).RESULTS: Europe-dwelling respondents totaled 1705 (76% male; 43% 25-34 years). Thirty-nine percent (39.2%; n = 668) had previously performed a rescue. Likelihood of having conducted a rescue significantly increased with 6 or more years of surfing experience (6-10 years [AOR = 1.96; 95%CI: 1.20-3.22]; 11-15 years [AOR = 3.26; 95%CI: 1.56-6.79]; 16 years or more [AOR = 4.27; 95%CI: 2.00-9.11]) when compared to surfers with <1 year experience. Expert/professional ability surfers were 10.89 times (95%CI: 4.72-25.15) more likely to have conducted a rescue than novice/beginners. Respondents who had received both a certified lifeguard and CPR course were significantly more likely to have conducted a rescue (AOR = 3.34; 95%CI: 2.43-4.60).CONCLUSION: Surfers who had previously conducted rescues commonly had more years of experience, higher self-rated surf ability and greater likelihood of having received certified training. However, not all surfers who have performed rescues had received training. Findings suggest surfers should receive rescue and CPR training before they start surfing at locations without trained supervision and refresh training regularly. Surfers are amenable to injury prevention information, especially online and via apps. /SEP/ Characteristics of surfers as bystander rescuers in Europe.\n",
      "Cell recapping is a behavioural trait of honeybees (Apis mellifera) where cells with developing pupae are uncapped, inspected, and then recapped, without removing the pupae. The ectoparasitic mite Varroa destructor, unarguably the most destructive pest in apiculture world-wide, invades the cells of developing pupae to feed and reproduce. Honeybees that target mite infested cells with this behaviour may disrupt the reproductive cycle of the mite. Hence, cell recapping has been associated with colony-level declines in mite reproduction. In this study we compared the colony-level efficacy of cell recapping (how often infested cells are recapped) to the average mite fecundity in A. mellifera. Our study populations, known to be adapted to V. destructor, were from Avignon, France, Gotland, Sweden, and Oslo, Norway, and were compared to geographically similar, treated control colonies. The results show that colonies with a higher recapping efficacy also have a lower average mite reproductive success. This pattern was likely driven by the adapted populations as they had the largest proportion of highly-targeted cell recapping. The consistent presence of this trait in mite-resistant and mite-susceptible colonies with varying degrees of expression may make it a good proxy trait for selective breeding on a large scale. /SEP/ Reproductive success of the parasitic mite (Varroa destructor) is lower in honeybee colonies that target infested cells with recapping.\n"
     ]
    }
   ],
   "source": [
    "read_first_lines('train_raw_texts_100K.txt', 10)"
   ]
  },
  {
   "cell_type": "code",
   "execution_count": 17,
   "metadata": {},
   "outputs": [
    {
     "name": "stdout",
     "output_type": "stream",
     "text": [
      "BACKGROUND: Surgical educators have worked to manage the hopes and fears as well as the recurring rumors that plague the surgical clerkship. It is not known if this has effected change over time.METHODS: We gathered information on hopes, fears, and rumors during our clerkship orientations from 2017 to 2019 using anonymous polling software with real-time feedback. We analyzed 468 responses using qualitative content analysis.RESULTS: Students hoped for practical skills acquisition, self-improvement, and understanding the surgical profession. They feared lack of time and knowledge, burnout, mistreatment, and subjective evaluation. Rumors included negative perceptions of surgical culture work environment, and fear of mistreatment despite clerkship changes intended to allay these fears.CONCLUSION: Students starting surgery clerkships hope to gain surgical and clinical skills but concerns about surgical culture and mistreatment appear to remain unchanged despite structural improvements in the clerkship experience. Surgeons should look beyond the clerkship itself to change these perceptions. /SEP/ Hopes, fears, and rumors: Medical students and the general surgery clerkship.\n",
      "Characterization of enzyme kinetics in an experiment is dependent on measurement of a change in concentration of either the substrate (loss of parent) or the product (formation of metabolite). Modern analytical techniques such as ultrahigh pressure liquid chromatography, high resolution mass spectrometry, etc. have allowed accurate characterization of minute changes in concentration. Therefore, complex kinetic data such as a sigmoidal phase at low substrate concentrations or terminal half-life in a PK curve can be evaluated by stretching the limits of analytical quantification. This chapter presents some elementary dos and don'ts and provides insight into some of the underlying principles for utilizing the best possible analytical techniques when investigating enzyme kinetics. The objective of this case study is to answer the following questions: (a) Why is it necessary to determine lower and upper limits of quantification (LLOQ and ULOQ, respectively) of a bioanalytical assay, specifically for enzyme kinetic assays? How do you utilize LLOQ and ULOQ to correctly interpret your kinetic data? (b) Why should one use a linear fit and not a quadratic fit for standard curves? (c) Is quantification of an analyte possible without a reference standard? Can one assume equal signal intensities regardless of analytical technique (MS, UV)? (d) In the absence of reference standards, can you still determine kinetic constants? (e) With the need to keep substrate depletion at less than 20% for linearity assumptions, does bioanalytical variability matter? (f) What buffer do you use for your enzyme systems? How do you choose your buffer ? Does choice of bioanalytical methods (LC, MS) dictate your choice of buffer ? /SEP/ Case Study 2: Practical Analytical Considerations for Conducting In Vitro Enzyme Kinetic Studies.\n",
      "There have been marked policy shifts within many nations towards 'extended work lives', with such shifts often underpinned by an assumption that individual aging citizens can make the responsible choice to prolong work and thereby avoid dependency on the state. However, possibilities for extended work lives are inequitably distributed, and older workers who become unemployed often face prolonged unemployment and barriers to obtaining sustainable employment. Drawing on findings from an ethnographic study addressing the negotiation of long-term unemployment in two North American cities, this article attends to how jobseekers aged 50 and older, employment support service providers, and organizational stakeholders understood and attempted to manage later life unemployment. Employing a critical discourse analysis approach informed by a governmentality perspective, the findings illustrate how possibilities for framing the problems faced by older jobseekers and for managing later life unemployment were constrained by broader individualizing neoliberal mandates. Despite recognition of systemic barriers tied to ageism and its intersection with other axes of disadvantage, stakeholders and service providers enacted a narrow individualized approach to manage ageism. This individualized approach, in turn, produced tensions within service provision and shaped precarity for older jobseekers through encouraging them to be 'realistic' regarding the types of work and wages available to them as older workers. If the extended work life agenda continues to be politically promoted as a key solution in the management of population aging, it is imperative to re-configure policy and service approaches to avoid the downloading of insurmountable barriers onto older jobseekers in ways that increasingly produce precarious lives marked by uncertainty, instability, and vulnerability. /SEP/ Producing precarity: The individualization of later life unemployment within employment support provision.\n",
      "OBJECTIVES: to assess the impact of a cement plant emissions on mortality, hospitalizations, and cancer incidence in the residents of the municipality of Pederobba (Veneto Region, Northern Italy).DESIGN: retrospective residential cohort study.SETTING AND PARTICIPANTS: the study was conducted in Pederobba and in 7 neighbouring municipalities (Cavaso Del Tomba, Cornuda, Crocetta del Montello, Monfumo, Segusino, Valdobbiadene, Vidor). The cohort included 12,116 residents in Pederobba (151,784 person-years) and 49,004 residents in the neighbouring municipalities (660,268 person-years) in the period 1996-2017. On the basis of the model estimate of the annual average concentration of nitrogen dioxide (NO2), the municipality of Pederobba was divided into an area with higher exposure of NO2 and another one at lower exposure of NO2. Two comparisons were made: the first between the residents in Pederobba and residents in the neighbouring municipalities; the second between people residing in Pederobba in the higher and in the lower exposure areas.MAIN OUTCOME MEASURES: analysis of cause-specific mortality and hospitalization and cancer incidence, with particular attention to the diseases for which there is evidence of association with exposure to air-pollutants. For cancer incidence, available data were limited to the municipalities of Pederobba, Cavaso Del Tomba, Cornuda, Crocetta del Montello, and Monfumo for the period 1996-2015.RESULTS: the comparison among Pederobba and the 7 neighbouring municipalities showed that within Pederobba residents there was: • a slight increase in the risk of death from all causes in women, due to circulatory diseases (HR 1.29; 95%CI 1.15-1.45), in particular ischaemic heart disease (HR 1.55; 1.27-1.89) and cerebrovascular diseases (HR 1.35; 1.06-1.72); • a moderate increase in hospitalizations for circulatory diseases, such as heart failure (HR 1.17; 1.00-1.37) and cerebrovascular diseases (HR 1.41; 1.17 -1.70), especially in elderly women; • a slight increase in hospitalizations for respiratory diseases, especially in older women (HR 1.19; 1.04-1.37); • no difference were observed in cancer incidence, neither for all nor for single cancer sites, in both genders.The comparison between residents in the higher exposure area and those in the lower exposure area showed no difference in mortality, hospitalizations, and cancer incidence.CONCLUSIONS: higher mortality and hospitalization rates from circulatory and respiratory causes detected in Pederobba compared to the neighbouring municipalities were not confirmed by the comparison between residents in the higher and in the lower exposure area. Overall, data did not show a clear, well-characterized relationship between the exposure to pollutants emitted by the cement plant and the onset of chronic diseases. The excess of mortality and hospitalization for cardiovascular and cerebrovascular diseases, reported especially in older women, deserves further investigation, because of the complex cause-effect relations of these diseases. /SEP/ [Residential cohort study to assess the impact of emissions released by a cement plant on the health status of the population residing in Pederobba (Veneto Region, Northern Italy)].\n",
      "OBJECTIVE: To investigate the associations between pre-pregnancy body mass index (BMI) and neonatal outcomes in women undergoing autologous frozen-thawed embryo transfer (FET).DESIGN: Retrospective cohort study.SETTING(S): University-affiliated reproductive medical center.PATIENT(S): A total of 16,240 women with singleton deliveries achieved by autologous FET.INTERVENTION(S): None.MAIN OUTCOME MEASURE(S): Neonatal outcomes included preterm birth (PTB), low birth weight (LBW), small-for-gestational age (SGA), large-for-gestational age (LGA), fetal macrosomia, and birth defects.RESULT(S): After adjusting for confounding factors, our study showed that in autologous FET cycles, the overweight women (23 kg/m2? BMI <27.5 kg/m2) were associated with increased rates of PTB (adjusted odds ratio [aOR], 1.226; 95% confidence interval [CI], 1.060-1.418), macrosomia (aOR, 1.692; 95% CI, 1.491-1.921), and LGA (aOR, 1.980; 95% CI, 1.715-2.286); and the obese women (BMI ?27.5 kg/m2) were significantly associated with increased PTB (aOR, 1.503; 95% CI, 1.167-1.936), early PTB (aOR, 2.829; 95% CI, 1.679-4.765), very LBW (aOR, 3.087; 95% CI, 1.720-5.542), macrosomia (aOR, 2.325; 95% CI, 1.862-2.904), and LGA (aOR, 3.235; 95% CI, 2.561-4.085). The rate of SGA infants was higher in the underweight women (BMI <18.5 kg/m2) (aOR, 1.687; 95% CI, 1.375-2.071) than that in the normal-weight women (18.5 kg/m2? BMI ?23 kg/m2). No significant difference was observed in the risk of birth defects between normal-weight cases and other BMI categories.CONCLUSION(S): Among women undergoing FET, pre-pregnancy BMI affected neonatal outcomes of singletons. BMI in Asian categories for overweight and obese showed significant increases in PTB, macrosomia, and LGA; early PTB and very LBW only increased in obese cases. In addition, underweight status was associated with increased risk of SGA. In contrast, there was no association between pre-pregnancy BMI and birth defects in FET cycles. /SEP/ Effect of pre-pregnancy body mass index on neonatal outcomes in women undergoing autologous frozen-thawed embryo transfer.\n",
      "Picornaviruses are non-enveloped, single-stranded RNA viruses that cause highly contagious diseases, such as polio and hand, foot-and-mouth disease (HFMD) in human, and foot-and-mouth disease (FMD) in animals. Reverse genetics and minigenome of picornaviruses mainly depend on in vitro transcription and RNA transfection; however, this approach is inefficient due to the rapid degradation of RNA template. Although DNA-based reverse genetics systems driven by mammalian RNA polymerase I and/or II promoters display the advantage of rescuing the engineered FMDV, the enzymatic functions are restricted in the nuclear compartment. To overcome these limitations, we successfully established a novel DNA-based vector, namely pKLS3, an FMDV minigenome containing the minimum cis-acting elements of FMDV essential for intracytoplasmic transcription and translation of a foreign gene. A combination of pKLS3 minigenome and the helper plasmids yielded the efficient production of uncapped-green florescent protein (GFP) mRNA visualized in the transfected cells. We have demonstrated the application of the pKLS3 for cell-based antiviral drug screening. Not only is the DNA-based FMDV minigenome system useful for the FMDV research and development but it could be implemented for generating other picornavirus minigenomes. Additionally, the prospective applications of this viral minigenome system as a vector for DNA and mRNA vaccines are also discussed. /SEP/ A Novel Plasmid DNA-Based Foot and Mouth Disease Virus Minigenome for Intracytoplasmic mRNA Production.\n",
      "Methylenetetrahydrofolate dehydrogenase 2 (MTHFD2) plays an important role in one-carbon metabolism. The MTHFD2 gene is upregulated in various cancers but very low or undetectable in normal proliferating cells, and therefore a potential target for cancer treatment. In this study, we present the structure of MTHFD2 in complex with xanthine derivative 15, which allosterically binds to MTHFD2 and coexists with the substrate analogue. A kinetic study demonstrated the uncompetitive inhibition of MTHFD2 by 15. Allosteric inhibitors often provide good selectivity and, indeed, xanthine derivatives are highly selective for MTHFD2. Moreover, several conformational changes were observed upon the binding of 15, which impeded the binding of the cofactor and phosphate to MTHFD2. To the best of our knowledge, this is the first study to identify allosteric inhibitors targeting the MTHFD family and our results would provide insights on the inhibition mechanism of MTHFD proteins and the development of novel inhibitors. /SEP/ Xanthine Derivatives Reveal an Allosteric Binding Site in Methylenetetrahydrofolate Dehydrogenase 2 (MTHFD2).\n",
      "BACKGROUND: A substantial number of patients treated in emergency general surgery (EGS) services die within a year of discharge. The aim of this study was to analyse causes of death and their relationship to discharge diagnoses, in patients who died within 1 year of discharge from an EGS service in Scotland.METHODS: This was a population cohort study of all patients with an EGS admission in Scotland, UK, in the year before death. Patients admitted to EGS services between January 2008 and December 2017 were included. Data regarding patient admissions were obtained from the Information Services Division in Scotland, and cross-referenced to death certificate data, obtained from the National Records of Scotland.RESULTS: Of 507 308 patients admitted to EGS services, 7917 died while in hospital, and 52 094 within 1 year of discharge. For the latter, the median survival time was 67 (i.q.r. 21-168) days after EGS discharge. Malignancy accounted for 48 per cent of deaths and was the predominant cause of death in patients aged over 35 years. The cause of death was directly related to the discharge diagnosis in 56.5 per cent of patients. Symptom-based discharge diagnoses were often associated with a malignancy not diagnosed on admission.CONCLUSION: When analysed by subsequent cause of death, EGS is a cancer-based specialty. Adequate follow-up and close links with oncology and palliative care services merit development. /SEP/ Causes of death after emergency general surgical admission: population cohort study of mortality.\n",
      "Tumor necrosis factor receptor 1 and 2 (TNFR1 and TNFR2) have been found in brain parenchyma of stroke patients, and plasma levels are increased in the acute phase of stroke. We evaluated associations between TNFR1 and TNFR2 plasma levels and stroke severity, infarct size, and functional outcome. Furthermore, we examined cellular expression of TNFR1 and TNFR2 on leukocyte subpopulations to explore the origin of the increased receptor levels. Blood samples were taken from 33 acute ischemic stroke patients and 10 healthy controls. TNFR1 and TNFR2 plasma concentrations were measured and correlated against the Scandinavian Stroke Scale at admission, infarct volume, and the modified Rankin Scale score three months after stroke onset. Classical, intermediate, and non-classical monocytes as well as neutrophils were purified, and cellular expression of TNFR1 and TNFR2 was examined using flow cytometry. TNFR1 and TNFR2 plasma levels were both increased after ischemic stroke, but we found no correlation with patient outcome measurements. Compared to healthy controls, ischemic stroke patients had decreased non-classical monocyte and neutrophil populations expressing TNFR1 and increased neutrophils expressing TNFR2, and decreased non-classical populations co-expressing both TNFR1 and TNFR2. This study supports the hypothesis of an acute immunological response orchestrated by the peripheral immune system following an ischemic stroke. However, the origin of the increased TNFR1 and TNFR2 plasma levels could not be clearly linked to peripheral monocytes or neutrophils. Future studies are needed and will help clarify the potential role as treatment target. /SEP/ Leukocyte TNFR1 and TNFR2 Expression Contributes to the Peripheral Immune Response in Cases with Ischemic Stroke.\n",
      "Psoriasis is a chronic inflammatory skin disease that affects approximately 125 million people worldwide. It has significant impacts on both physical and emotional health-related quality of life comparable to other major illnesses. Accurately prediction of psoriasis using biomarkers from routine laboratory tests has important practical values. Our goal is to derive a powerful predictive model for psoriasis disease based on only routine hospital tests. We collected a data set including 466 psoriasis patients and 520 healthy controls with 81 variables from only laboratory routine tests, such as age, total cholesterol, HDL cholesterol, blood pressure, albumin, and platelet distribution width. In this study, Boruta feature selection method was applied to select the most relevant features, with which a Random Forest model was constructed. The model was tested with 30 repetitions of 10-fold cross-validation. Our classification model yielded an average accuracy of 86.9%. 26 notable features were selected by Boruta, among which 15 features are confirmed from previous studies, and the rest are worth further investigations. The experimental results demonstrate that the machine learning approach has good potential in predictive modeling for the psoriasis disease given the information only from routine hospital tests. /SEP/ Predicting psoriasis using routine laboratory tests with random forest.\n"
     ]
    }
   ],
   "source": [
    "read_first_lines('test_raw_texts_100K.txt', 10)"
   ]
  },
  {
   "cell_type": "code",
   "execution_count": 18,
   "metadata": {},
   "outputs": [
    {
     "name": "stdout",
     "output_type": "stream",
     "text": [
      "File cleaned successfully. Cleaned output saved to train_texts_100K.txt\n"
     ]
    }
   ],
   "source": [
    "# clean the raw training texts\n",
    "\n",
    "import re\n",
    "\n",
    "def clean_text(text):\n",
    "    # Define a function to convert text to lowercase except for /SEP/\n",
    "    def lower_except_sep(match):\n",
    "        return match.group(1).lower() + match.group(2)\n",
    "    \n",
    "    # Use regex to find all text not including /SEP/ and convert to lowercase\n",
    "    cleaned_text = re.sub(r'(.*?)(/SEP/|$)', lower_except_sep, text, flags=re.DOTALL)\n",
    "    \n",
    "    # Remove full stops\n",
    "    cleaned_text = cleaned_text.replace('.', '')\n",
    "    \n",
    "    return cleaned_text\n",
    "\n",
    "\n",
    "input_file = 'train_raw_texts_100K.txt'  # Replace with your input file path\n",
    "output_file = 'train_texts_100K.txt'  # Replace with your output file path\n",
    "\n",
    "with open(input_file, 'r', encoding='utf-8') as f_input, \\\n",
    "     open(output_file, 'w', encoding='utf-8') as f_output:\n",
    "\n",
    "    for line in f_input:\n",
    "        cleaned_line = clean_text(line.strip())\n",
    "        f_output.write(cleaned_line + '\\n')\n",
    "\n",
    "print(f\"File cleaned successfully. Cleaned output saved to {output_file}\")\n",
    "\n"
   ]
  },
  {
   "cell_type": "code",
   "execution_count": 20,
   "metadata": {},
   "outputs": [
    {
     "name": "stdout",
     "output_type": "stream",
     "text": [
      "background: previous ct and cadaver studies have suggested that the external obturator footprint might be used as a landmark for stem depth in direct anterior tha instructions on where to template this structure with small variability in height have been developed but have not been tested in daily clinical practicequestions/purposes: in this study we sought to investigate the (1) usability, (2) accuracy, and (3) reliability of the external obturator footprint as a landmark for stem depth in direct anterior thamethods: the distance between the superior border of the external obturator tendon and the shoulder of the stem was measured intraoperatively in all patients (n = 135) who underwent primary tha via a direct anterior approach performed by the senior author between november 2019 and october 2020 the landmark was considered useful when two of thre`e evaluators agreed that the intersection of the vertical line comprised of the lateral wall of the trochanteric fossa and the oblique line formed by the intertrochanteric crest was clearly visible on the preoperative planning radiograph, and when the landmark was furthermore identified with certainty during surgery accuracy was defined as the degree of agreement (categorical for thresholds of 2 and 5 mm, the latter representing the threshold for developing unphysiological gait parameters) between the intraoperative distance and radiographic distance as measured on intraoperative fluoroscopy images or postoperative radiographs, which were calibrated based on femoral head sizes in a software program commonly used for templating intrarater reliability was defined as the degree of agreement (categorical for thresholds of 1 mm, which we considered an acceptable measurement error) between the ratings of one observer, who measured the radiographic distance on two different occasions separated by a washout period of at least 2 weeks interrater reliability was defined as the degree of agreement (categorical for thresholds of 1 mm, which we considered an acceptable measurement error) between the ratings of three observers with varying levels of experience (a fellowship-trained hip surgeon, a hip surgery fellow, and a medical student)results: the landmark was considered useful in 77% (104 of 135) of patients who underwent direct anterior tha based on the observations that the trochanteric fossa was clearly visible on the planning radiograph in 117 patients and that the tendon was identified with certainty during surgery in 118 patients there was good-to-excellent accuracy (intraclass correlation coefficient 075-087), and intrarater reliability (icc 099) and interrater reliability (icc 099) were both excellentconclusion: this clinical study showed that the external obturator footprint is a useful, accurate, and reliable landmark for stem depth in direct anterior thaclinical relevance: the external obturator landmark allows the surgeon to position the stem within a range of the templated depth that is beneath the threshold for the development of unphysiological gait parameters although strictly speaking it was found useful in 77% of patients in this study, we found that this percentage of usability can easily be improved to around 90% by providing the radiology lab technician with instructions to correct external rotation of the foot during the taking of the planning radiograph future studies could compare the established (in)equality in leg length in patients using the external obturator landmark with computer-assisted surgery /SEP/ the external obturator footprint is a usable, accurate, and reliable landmark for stem depth in direct anterior tha\n",
      "introduction: use of virtual reality (vr) in healthcare has expanded in recent years the challenges faced by patients with prolonged covid-19-related hospitalizations - social isolation, disability, neurologic sequelae, adjustment-related anxiety, depression, and stress - may be mitigated by the novel use of vr as one modality of a comprehensive rehabilitation plan this descriptive study aimed to understand patient satisfaction and perceived benefit of virtual reality on a covid-19 recovery unit, as well as the logistical and operational feasibility of providing vr content for patients and staffmaterials and methods: during the covid-19 surge in new york city in 2020, the covid-19 recovery unit (cru) of a large academic hospital invited patients and staff to participate in vr sessions with three categories of experience: (1) guided meditation, (2) exploration of natural environments, (3) cognitive stimulation games patients and staff were surveyed about satisfaction and perceived benefitresults: 13 patients and 11 staff were surveyed, with median patient satisfaction scores of 9 out of 10, with ten representing \"extremely satisfied,\" and median staff satisfaction scores of 10 13/13 patients answered \"yes\" to recommending the therapy to others, and 12/13 answered \"yes\" to perceived enhancement of their treatment 11/11 staff answered \"yes\" to recommending the therapy to others, and 11/11 answered \"yes\" to perceived enhancement of their wellbeingdiscussion: a vr program implemented on a covid-19 rehabilitation unit for patients and healthcare providers was rated as highly satisfactory with perceived benefit by survey respondents participants commented that the use of vr was useful in coping with isolation and loneliness, and could be implemented within the context of clinical care for covid-19 patients as part of a comprehensive rehabilitation model the use of vr was also logistically and operationally feasible on the cru future work to compare benefits of vr to standard neuropsychological rehabilitation is needed /SEP/ use of virtual reality in the inpatient rehabilitation of covid-19 patients\n",
      "cancer is one of the deadliest illness globally searching for new solutions in cancer treatments is essential because commonly used mixed, targeted and personalized therapies are sometimes not sufficient or are too expensive for common patients sugar fatty acid esters (sfaes) are already well-known as promising candidates for an alternative medical tool the manuscript brings the reader closer to methods of obtaining various sfaes using combined biological, chemical and enzymatic methods it presents how modification of sfae's hydrophobic chains can influence their cytotoxicity against human skin melanoma and prostate cancer cell lines the compound's cytotoxicity was determined by an mtt assay, which followed an assessment of sfaes' potential metastatic properties in concentrations below ic50 values despite relatively high ic50 values (633-17376 ìm) of the newly synthesized sfae, they can compete with other sugar esters already described in the literature the chosen bioactives caused low polymerization of microtubules and the depolymerization of actin filaments in nontoxic levels, which suggest an apoptotic rather than metastatic process altogether, cancer cells showed no propensity for metastasis after treating them with sfae they confirmed that lactose-based compounds seem the most promising surfactants among tested sugar esters this manuscript creates a benchmark for creation of novel anticancer agents based on 3-hydroxylated fatty acids of bacterial origin /SEP/ in search of effective anticancer agents-novel sugar esters based on polyhydroxyalkanoate monomers\n",
      "a method for rearing the southern green stinkbug, (nezara viridula l) (heteroptera: pentatomidae), using a modified lygus semi-solid artificial diet was developed first to second-instar nymph were reared in a density of 6315 ± 12505 eggs per petri-dish (4 cm deep ? 15 cm diam) second instar to adult were reared in a density of 5350 ± 11246 s instar nymphs per rearing cage (43 ? 28 ? 9 cm) mating and oviposition occurred in popup rearing cages (30 ? 30 cm), each holding 60-90 mixed sex adults of similar age adults emerged 3588 ± 213 d after oviposition and survived for an average of 4309 ± 953 d on average, adults laid 22395 ± 6988 eggs in their lifetime, for a total production of 8,099 ± 1,277 fertile eggs/oviposition cage egg fertility was 7793% ± 1628 egg masses held in petri-dishes had a total hatchability of 7938% ± 2003 mortality of early nymphs in petri-dishes was 064% ± 012 for the first instar and 137% ± 045 for second instar late nymphal mortality in rearing cages was 141% ± 010, 347% ± 127, and 472% ± 129 for the third, fourth, and fifth instars, respectively survivorship from nymphs to adults was 8848% ± 276 using artificial diet for rearing n viridula could reduce cost by avoiding time-consuming issues with daily feeding fresh natural hosts and insect manipulation it could increase reliability and simplicity of bug production, which should facilitate mass rearing of its biological control agents /SEP/ development of a method for rearing nezara viridula (heteroptera: pentatomidae) on a semi-solid artificial diet\n",
      "background: nursing faculty continually seek new teaching strategies to promote prelicensure nursing students' critical thinking students construct new knowledge through experience esthetic learning methodologies involve gaining knowledge and insight through emotive, firsthand experiences the esthetic experience of watching a movie, coupled with reflective journaling, has been used with health care students to promote learning however, little is documented in the literature on its use with nursing students or its influence on the formulation of critical thinking skillsmethod: this descriptive qualitative study explored the impact of watching the movie, sully, followed by structured reflective journaling on critical thinking of prelicensure nursing studentsresults: themes were identified which demonstrated students' insights into the components of critical thinking and expert thinkingconclusion: esthetic learning is a promising teaching approach that addresses multiple ways of knowing, thereby enhancing students' learning about critical thinking in a prelicensure education program [j nurs educ 2021;60(5):281-285] /SEP/ from sully to nightingale: critical thinking through esthetic learning\n",
      "triplet exciton formation is essential for photosensitization-based photochemistry and photobiology the heavy atom effect (hae), in the form of either external or internal mode, is a basic mechanism for increasing the triplet exciton yield of photosensitizers herein, we report a new hae mode by noncovalent cohosting of heavy atoms and photosensitizers in a double-stranded dna (dsdna) matrix with dsdna bearing several thymine (t) or cytosine (c) mismatches, heavy atoms (eg, hg2+ or ag+) and dsdna-staining dyes (photosensitizers) were spatially adjoined in close proximity, thus resulting in enhanced phosphorescence and 1o2 generation from the photosensitizers the dsdna-hosted hae provides highly selective recognition for the heavy atoms, which is not applicable in either the external or the internal mode considering the simpleness and efficiency of the spatially adjoined hae, as well as the functionality of dna, the proposed hae mode is appealing for various singlet oxygen- and phosphorescence-related applications /SEP/ selective heavy atom effect forming photosensitizing hot spots in double-stranded dna matrix\n",
      "transplanted glial-restricted progenitor (grp) cells have potential to focally replace defunct astrocytes and produce remyelinating oligodendrocytes to avert neuronal death and dysfunction however, most central nervous system cell therapeutic paradigms are hampered by high initial cell death and a host anti-graft immune response we show here that composite hyaluronic acid-based hydrogels of tunable mechanical strengths can significantly improve transplanted grp survival and differentiation allogeneic grps expressing green fluorescent protein and firefly luciferase were scaffolded in optimized hydrogel formulations and transplanted intracerebrally into immunocompetent balb/c mice followed by serial in vivo bioluminescent imaging and chemical exchange saturation transfer magnetic resonance imaging (cest mri) we demonstrate that gelatin-sensitive cest mri can be exploited to monitor hydrogel scaffold degradation in vivo for ?5 weeks post transplantation without necessitating exogenous labeling hydrogel scaffolding of grps resulted in a 45-fold increase in transplanted cell survival at day 32 post transplantation compared to naked cells histological analysis showed significant enhancement of cell proliferation as well as olig2+ and gfap+ cell differentiation for scaffolded cells compared to naked cells, with reduced host immunoreactivity hence, hydrogel scaffolding of transplanted grps in conjunction with serial in vivo imaging of cell survival and hydrogel degradation has potential for further advances in glial cell therapy /SEP/ in vivo imaging of allografted glial-restricted progenitor cell survival and hydrogel scaffold biodegradation\n",
      "background: recurrent vasovagal syncope is common, responds poorly to treatment, and causes physical trauma and poor quality of life midodrine prevents hypotension and syncope during tilt tests in patients with vasovagal syncopeobjective: to determine whether midodrine can prevent vasovagal syncope in usual clinical conditionsdesign: randomized, double-blind, placebo-controlled clinical trial (clinicaltrialsgov: nct01456481)setting: 25 university hospitals in canada, the united states, mexico, and the united kingdompatients: patients with recurrent vasovagal syncope and no serious comorbid conditionsintervention: patients were randomly assigned 1:1 to placebo or midodrine and followed for 12 monthsmeasurements: the primary outcome measure was the proportion of patients with at least 1 syncope episode during follow-upresults: the study included 133 patients who had had a median of 6 syncope episodes in the prior year (median age, 32 years; 73% female) compared with patients receiving placebo, fewer patients receiving midodrine had at least 1 syncope episode (28 of 66 [42%] vs 41 of 67 [61%]) the relative risk was 069 (95% ci, 049 to 097; p = 0035) the absolute risk reduction was 19 percentage points (ci, 2 to 36 percentage points), and the number needed to treat to prevent 1 patient from having syncope was 53 (ci, 28 to 476) the time to first syncope was longer with midodrine (hazard ratio, 059 [ci, 037 to 096]; p = 0035; log-rank p = 0031) adverse effects were similar in both groupslimitation: small study size, young and healthy patients, relatively short observation period, and high proportion of patients from 1 centerconclusion: midodrine can reduce the recurrence of syncope in healthy, younger patients with a high syncope burdenprimary funding source: the canadian institutes of health research /SEP/ midodrine for the prevention of vasovagal syncope : a randomized clinical trial\n",
      "introduction: coastal locations contribute significantly to global drowning, with surfers frequently conducting rescues this study explored the characteristics of surfers as bystander rescuers in europemethods: a cross-sectional online survey collected demographics (age, sex, geographical location), surfing experience, ability, lifesaving and cardiopulmonary resuscitation (cpr) training, information seeking behaviors and previous performance of a rescue analyses comprised descriptive frequencies, binomial logistic regression with adjusted odds ratio (aor) (95% confidence interval [ci]) and chi-squares (p < 05)results: europe-dwelling respondents totaled 1705 (76% male; 43% 25-34 years) thirty-nine percent (392%; n = 668) had previously performed a rescue likelihood of having conducted a rescue significantly increased with 6 or more years of surfing experience (6-10 years [aor = 196; 95%ci: 120-322]; 11-15 years [aor = 326; 95%ci: 156-679]; 16 years or more [aor = 427; 95%ci: 200-911]) when compared to surfers with <1 year experience expert/professional ability surfers were 1089 times (95%ci: 472-2515) more likely to have conducted a rescue than novice/beginners respondents who had received both a certified lifeguard and cpr course were significantly more likely to have conducted a rescue (aor = 334; 95%ci: 243-460)conclusion: surfers who had previously conducted rescues commonly had more years of experience, higher self-rated surf ability and greater likelihood of having received certified training however, not all surfers who have performed rescues had received training findings suggest surfers should receive rescue and cpr training before they start surfing at locations without trained supervision and refresh training regularly surfers are amenable to injury prevention information, especially online and via apps /SEP/ characteristics of surfers as bystander rescuers in europe\n",
      "cell recapping is a behavioural trait of honeybees (apis mellifera) where cells with developing pupae are uncapped, inspected, and then recapped, without removing the pupae the ectoparasitic mite varroa destructor, unarguably the most destructive pest in apiculture world-wide, invades the cells of developing pupae to feed and reproduce honeybees that target mite infested cells with this behaviour may disrupt the reproductive cycle of the mite hence, cell recapping has been associated with colony-level declines in mite reproduction in this study we compared the colony-level efficacy of cell recapping (how often infested cells are recapped) to the average mite fecundity in a mellifera our study populations, known to be adapted to v destructor, were from avignon, france, gotland, sweden, and oslo, norway, and were compared to geographically similar, treated control colonies the results show that colonies with a higher recapping efficacy also have a lower average mite reproductive success this pattern was likely driven by the adapted populations as they had the largest proportion of highly-targeted cell recapping the consistent presence of this trait in mite-resistant and mite-susceptible colonies with varying degrees of expression may make it a good proxy trait for selective breeding on a large scale /SEP/ reproductive success of the parasitic mite (varroa destructor) is lower in honeybee colonies that target infested cells with recapping\n"
     ]
    }
   ],
   "source": [
    "read_first_lines('train_texts_100K.txt', 10)"
   ]
  },
  {
   "cell_type": "code",
   "execution_count": 21,
   "metadata": {},
   "outputs": [
    {
     "name": "stdout",
     "output_type": "stream",
     "text": [
      "File cleaned successfully. Cleaned output saved to test_texts_100K.txt\n"
     ]
    }
   ],
   "source": [
    "# clean the raw training texts\n",
    "\n",
    "import re\n",
    "\n",
    "def clean_text(text):\n",
    "    # Define a function to convert text to lowercase except for /SEP/\n",
    "    def lower_except_sep(match):\n",
    "        return match.group(1).lower() + match.group(2)\n",
    "    \n",
    "    # Use regex to find all text not including /SEP/ and convert to lowercase\n",
    "    cleaned_text = re.sub(r'(.*?)(/SEP/|$)', lower_except_sep, text, flags=re.DOTALL)\n",
    "    \n",
    "    # Remove full stops\n",
    "    cleaned_text = cleaned_text.replace('.', '')\n",
    "    \n",
    "    return cleaned_text\n",
    "\n",
    "\n",
    "input_file = 'test_raw_texts_100K.txt'  # Replace with your input file path\n",
    "output_file = 'test_texts_100K.txt'  # Replace with your output file path\n",
    "\n",
    "with open(input_file, 'r', encoding='utf-8') as f_input, \\\n",
    "     open(output_file, 'w', encoding='utf-8') as f_output:\n",
    "\n",
    "    for line in f_input:\n",
    "        cleaned_line = clean_text(line.strip())\n",
    "        f_output.write(cleaned_line + '\\n')\n",
    "\n",
    "print(f\"File cleaned successfully. Cleaned output saved to {output_file}\")\n",
    "\n"
   ]
  },
  {
   "cell_type": "code",
   "execution_count": 22,
   "metadata": {},
   "outputs": [
    {
     "name": "stdout",
     "output_type": "stream",
     "text": [
      "background: surgical educators have worked to manage the hopes and fears as well as the recurring rumors that plague the surgical clerkship it is not known if this has effected change over timemethods: we gathered information on hopes, fears, and rumors during our clerkship orientations from 2017 to 2019 using anonymous polling software with real-time feedback we analyzed 468 responses using qualitative content analysisresults: students hoped for practical skills acquisition, self-improvement, and understanding the surgical profession they feared lack of time and knowledge, burnout, mistreatment, and subjective evaluation rumors included negative perceptions of surgical culture work environment, and fear of mistreatment despite clerkship changes intended to allay these fearsconclusion: students starting surgery clerkships hope to gain surgical and clinical skills but concerns about surgical culture and mistreatment appear to remain unchanged despite structural improvements in the clerkship experience surgeons should look beyond the clerkship itself to change these perceptions /SEP/ hopes, fears, and rumors: medical students and the general surgery clerkship\n",
      "characterization of enzyme kinetics in an experiment is dependent on measurement of a change in concentration of either the substrate (loss of parent) or the product (formation of metabolite) modern analytical techniques such as ultrahigh pressure liquid chromatography, high resolution mass spectrometry, etc have allowed accurate characterization of minute changes in concentration therefore, complex kinetic data such as a sigmoidal phase at low substrate concentrations or terminal half-life in a pk curve can be evaluated by stretching the limits of analytical quantification this chapter presents some elementary dos and don'ts and provides insight into some of the underlying principles for utilizing the best possible analytical techniques when investigating enzyme kinetics the objective of this case study is to answer the following questions: (a) why is it necessary to determine lower and upper limits of quantification (lloq and uloq, respectively) of a bioanalytical assay, specifically for enzyme kinetic assays? how do you utilize lloq and uloq to correctly interpret your kinetic data? (b) why should one use a linear fit and not a quadratic fit for standard curves? (c) is quantification of an analyte possible without a reference standard? can one assume equal signal intensities regardless of analytical technique (ms, uv)? (d) in the absence of reference standards, can you still determine kinetic constants? (e) with the need to keep substrate depletion at less than 20% for linearity assumptions, does bioanalytical variability matter? (f) what buffer do you use for your enzyme systems? how do you choose your buffer ? does choice of bioanalytical methods (lc, ms) dictate your choice of buffer ? /SEP/ case study 2: practical analytical considerations for conducting in vitro enzyme kinetic studies\n",
      "there have been marked policy shifts within many nations towards 'extended work lives', with such shifts often underpinned by an assumption that individual aging citizens can make the responsible choice to prolong work and thereby avoid dependency on the state however, possibilities for extended work lives are inequitably distributed, and older workers who become unemployed often face prolonged unemployment and barriers to obtaining sustainable employment drawing on findings from an ethnographic study addressing the negotiation of long-term unemployment in two north american cities, this article attends to how jobseekers aged 50 and older, employment support service providers, and organizational stakeholders understood and attempted to manage later life unemployment employing a critical discourse analysis approach informed by a governmentality perspective, the findings illustrate how possibilities for framing the problems faced by older jobseekers and for managing later life unemployment were constrained by broader individualizing neoliberal mandates despite recognition of systemic barriers tied to ageism and its intersection with other axes of disadvantage, stakeholders and service providers enacted a narrow individualized approach to manage ageism this individualized approach, in turn, produced tensions within service provision and shaped precarity for older jobseekers through encouraging them to be 'realistic' regarding the types of work and wages available to them as older workers if the extended work life agenda continues to be politically promoted as a key solution in the management of population aging, it is imperative to re-configure policy and service approaches to avoid the downloading of insurmountable barriers onto older jobseekers in ways that increasingly produce precarious lives marked by uncertainty, instability, and vulnerability /SEP/ producing precarity: the individualization of later life unemployment within employment support provision\n",
      "objectives: to assess the impact of a cement plant emissions on mortality, hospitalizations, and cancer incidence in the residents of the municipality of pederobba (veneto region, northern italy)design: retrospective residential cohort studysetting and participants: the study was conducted in pederobba and in 7 neighbouring municipalities (cavaso del tomba, cornuda, crocetta del montello, monfumo, segusino, valdobbiadene, vidor) the cohort included 12,116 residents in pederobba (151,784 person-years) and 49,004 residents in the neighbouring municipalities (660,268 person-years) in the period 1996-2017 on the basis of the model estimate of the annual average concentration of nitrogen dioxide (no2), the municipality of pederobba was divided into an area with higher exposure of no2 and another one at lower exposure of no2 two comparisons were made: the first between the residents in pederobba and residents in the neighbouring municipalities; the second between people residing in pederobba in the higher and in the lower exposure areasmain outcome measures: analysis of cause-specific mortality and hospitalization and cancer incidence, with particular attention to the diseases for which there is evidence of association with exposure to air-pollutants for cancer incidence, available data were limited to the municipalities of pederobba, cavaso del tomba, cornuda, crocetta del montello, and monfumo for the period 1996-2015results: the comparison among pederobba and the 7 neighbouring municipalities showed that within pederobba residents there was: • a slight increase in the risk of death from all causes in women, due to circulatory diseases (hr 129; 95%ci 115-145), in particular ischaemic heart disease (hr 155; 127-189) and cerebrovascular diseases (hr 135; 106-172); • a moderate increase in hospitalizations for circulatory diseases, such as heart failure (hr 117; 100-137) and cerebrovascular diseases (hr 141; 117 -170), especially in elderly women; • a slight increase in hospitalizations for respiratory diseases, especially in older women (hr 119; 104-137); • no difference were observed in cancer incidence, neither for all nor for single cancer sites, in both gendersthe comparison between residents in the higher exposure area and those in the lower exposure area showed no difference in mortality, hospitalizations, and cancer incidenceconclusions: higher mortality and hospitalization rates from circulatory and respiratory causes detected in pederobba compared to the neighbouring municipalities were not confirmed by the comparison between residents in the higher and in the lower exposure area overall, data did not show a clear, well-characterized relationship between the exposure to pollutants emitted by the cement plant and the onset of chronic diseases the excess of mortality and hospitalization for cardiovascular and cerebrovascular diseases, reported especially in older women, deserves further investigation, because of the complex cause-effect relations of these diseases /SEP/ [residential cohort study to assess the impact of emissions released by a cement plant on the health status of the population residing in pederobba (veneto region, northern italy)]\n",
      "objective: to investigate the associations between pre-pregnancy body mass index (bmi) and neonatal outcomes in women undergoing autologous frozen-thawed embryo transfer (fet)design: retrospective cohort studysetting(s): university-affiliated reproductive medical centerpatient(s): a total of 16,240 women with singleton deliveries achieved by autologous fetintervention(s): nonemain outcome measure(s): neonatal outcomes included preterm birth (ptb), low birth weight (lbw), small-for-gestational age (sga), large-for-gestational age (lga), fetal macrosomia, and birth defectsresult(s): after adjusting for confounding factors, our study showed that in autologous fet cycles, the overweight women (23 kg/m2? bmi <275 kg/m2) were associated with increased rates of ptb (adjusted odds ratio [aor], 1226; 95% confidence interval [ci], 1060-1418), macrosomia (aor, 1692; 95% ci, 1491-1921), and lga (aor, 1980; 95% ci, 1715-2286); and the obese women (bmi ?275 kg/m2) were significantly associated with increased ptb (aor, 1503; 95% ci, 1167-1936), early ptb (aor, 2829; 95% ci, 1679-4765), very lbw (aor, 3087; 95% ci, 1720-5542), macrosomia (aor, 2325; 95% ci, 1862-2904), and lga (aor, 3235; 95% ci, 2561-4085) the rate of sga infants was higher in the underweight women (bmi <185 kg/m2) (aor, 1687; 95% ci, 1375-2071) than that in the normal-weight women (185 kg/m2? bmi ?23 kg/m2) no significant difference was observed in the risk of birth defects between normal-weight cases and other bmi categoriesconclusion(s): among women undergoing fet, pre-pregnancy bmi affected neonatal outcomes of singletons bmi in asian categories for overweight and obese showed significant increases in ptb, macrosomia, and lga; early ptb and very lbw only increased in obese cases in addition, underweight status was associated with increased risk of sga in contrast, there was no association between pre-pregnancy bmi and birth defects in fet cycles /SEP/ effect of pre-pregnancy body mass index on neonatal outcomes in women undergoing autologous frozen-thawed embryo transfer\n",
      "picornaviruses are non-enveloped, single-stranded rna viruses that cause highly contagious diseases, such as polio and hand, foot-and-mouth disease (hfmd) in human, and foot-and-mouth disease (fmd) in animals reverse genetics and minigenome of picornaviruses mainly depend on in vitro transcription and rna transfection; however, this approach is inefficient due to the rapid degradation of rna template although dna-based reverse genetics systems driven by mammalian rna polymerase i and/or ii promoters display the advantage of rescuing the engineered fmdv, the enzymatic functions are restricted in the nuclear compartment to overcome these limitations, we successfully established a novel dna-based vector, namely pkls3, an fmdv minigenome containing the minimum cis-acting elements of fmdv essential for intracytoplasmic transcription and translation of a foreign gene a combination of pkls3 minigenome and the helper plasmids yielded the efficient production of uncapped-green florescent protein (gfp) mrna visualized in the transfected cells we have demonstrated the application of the pkls3 for cell-based antiviral drug screening not only is the dna-based fmdv minigenome system useful for the fmdv research and development but it could be implemented for generating other picornavirus minigenomes additionally, the prospective applications of this viral minigenome system as a vector for dna and mrna vaccines are also discussed /SEP/ a novel plasmid dna-based foot and mouth disease virus minigenome for intracytoplasmic mrna production\n",
      "methylenetetrahydrofolate dehydrogenase 2 (mthfd2) plays an important role in one-carbon metabolism the mthfd2 gene is upregulated in various cancers but very low or undetectable in normal proliferating cells, and therefore a potential target for cancer treatment in this study, we present the structure of mthfd2 in complex with xanthine derivative 15, which allosterically binds to mthfd2 and coexists with the substrate analogue a kinetic study demonstrated the uncompetitive inhibition of mthfd2 by 15 allosteric inhibitors often provide good selectivity and, indeed, xanthine derivatives are highly selective for mthfd2 moreover, several conformational changes were observed upon the binding of 15, which impeded the binding of the cofactor and phosphate to mthfd2 to the best of our knowledge, this is the first study to identify allosteric inhibitors targeting the mthfd family and our results would provide insights on the inhibition mechanism of mthfd proteins and the development of novel inhibitors /SEP/ xanthine derivatives reveal an allosteric binding site in methylenetetrahydrofolate dehydrogenase 2 (mthfd2)\n",
      "background: a substantial number of patients treated in emergency general surgery (egs) services die within a year of discharge the aim of this study was to analyse causes of death and their relationship to discharge diagnoses, in patients who died within 1 year of discharge from an egs service in scotlandmethods: this was a population cohort study of all patients with an egs admission in scotland, uk, in the year before death patients admitted to egs services between january 2008 and december 2017 were included data regarding patient admissions were obtained from the information services division in scotland, and cross-referenced to death certificate data, obtained from the national records of scotlandresults: of 507 308 patients admitted to egs services, 7917 died while in hospital, and 52 094 within 1 year of discharge for the latter, the median survival time was 67 (iqr 21-168) days after egs discharge malignancy accounted for 48 per cent of deaths and was the predominant cause of death in patients aged over 35 years the cause of death was directly related to the discharge diagnosis in 565 per cent of patients symptom-based discharge diagnoses were often associated with a malignancy not diagnosed on admissionconclusion: when analysed by subsequent cause of death, egs is a cancer-based specialty adequate follow-up and close links with oncology and palliative care services merit development /SEP/ causes of death after emergency general surgical admission: population cohort study of mortality\n",
      "tumor necrosis factor receptor 1 and 2 (tnfr1 and tnfr2) have been found in brain parenchyma of stroke patients, and plasma levels are increased in the acute phase of stroke we evaluated associations between tnfr1 and tnfr2 plasma levels and stroke severity, infarct size, and functional outcome furthermore, we examined cellular expression of tnfr1 and tnfr2 on leukocyte subpopulations to explore the origin of the increased receptor levels blood samples were taken from 33 acute ischemic stroke patients and 10 healthy controls tnfr1 and tnfr2 plasma concentrations were measured and correlated against the scandinavian stroke scale at admission, infarct volume, and the modified rankin scale score three months after stroke onset classical, intermediate, and non-classical monocytes as well as neutrophils were purified, and cellular expression of tnfr1 and tnfr2 was examined using flow cytometry tnfr1 and tnfr2 plasma levels were both increased after ischemic stroke, but we found no correlation with patient outcome measurements compared to healthy controls, ischemic stroke patients had decreased non-classical monocyte and neutrophil populations expressing tnfr1 and increased neutrophils expressing tnfr2, and decreased non-classical populations co-expressing both tnfr1 and tnfr2 this study supports the hypothesis of an acute immunological response orchestrated by the peripheral immune system following an ischemic stroke however, the origin of the increased tnfr1 and tnfr2 plasma levels could not be clearly linked to peripheral monocytes or neutrophils future studies are needed and will help clarify the potential role as treatment target /SEP/ leukocyte tnfr1 and tnfr2 expression contributes to the peripheral immune response in cases with ischemic stroke\n",
      "psoriasis is a chronic inflammatory skin disease that affects approximately 125 million people worldwide it has significant impacts on both physical and emotional health-related quality of life comparable to other major illnesses accurately prediction of psoriasis using biomarkers from routine laboratory tests has important practical values our goal is to derive a powerful predictive model for psoriasis disease based on only routine hospital tests we collected a data set including 466 psoriasis patients and 520 healthy controls with 81 variables from only laboratory routine tests, such as age, total cholesterol, hdl cholesterol, blood pressure, albumin, and platelet distribution width in this study, boruta feature selection method was applied to select the most relevant features, with which a random forest model was constructed the model was tested with 30 repetitions of 10-fold cross-validation our classification model yielded an average accuracy of 869% 26 notable features were selected by boruta, among which 15 features are confirmed from previous studies, and the rest are worth further investigations the experimental results demonstrate that the machine learning approach has good potential in predictive modeling for the psoriasis disease given the information only from routine hospital tests /SEP/ predicting psoriasis using routine laboratory tests with random forest\n"
     ]
    }
   ],
   "source": [
    "read_first_lines('test_texts_100K.txt', 10)"
   ]
  },
  {
   "cell_type": "code",
   "execution_count": 23,
   "metadata": {},
   "outputs": [
    {
     "name": "stdout",
     "output_type": "stream",
     "text": [
      "80000\n",
      "80000\n"
     ]
    }
   ],
   "source": [
    "#check the length\n",
    "\n",
    "with open('train_texts_100K.txt', 'r') as file:\n",
    "    train_texts = file.readlines()\n",
    "\n",
    "# Read the contents of labels.txt\n",
    "with open('train_labels_100K.txt', 'r') as file:\n",
    "    train_labels = file.readlines()\n",
    "print(len(train_texts))\n",
    "print(len(train_labels))"
   ]
  },
  {
   "cell_type": "code",
   "execution_count": 24,
   "metadata": {},
   "outputs": [
    {
     "name": "stdout",
     "output_type": "stream",
     "text": [
      "20000\n",
      "20000\n"
     ]
    }
   ],
   "source": [
    "#check the length\n",
    "\n",
    "with open('test_texts_100K.txt', 'r') as file:\n",
    "    test_texts = file.readlines()\n",
    "\n",
    "# Read the contents of labels.txt\n",
    "with open('test_labels_100K.txt', 'r') as file:\n",
    "    test_labels = file.readlines()\n",
    "print(len(test_texts))\n",
    "print(len(test_labels))"
   ]
  }
 ],
 "metadata": {
  "kernelspec": {
   "display_name": "Python 3",
   "language": "python",
   "name": "python3"
  },
  "language_info": {
   "codemirror_mode": {
    "name": "ipython",
    "version": 3
   },
   "file_extension": ".py",
   "mimetype": "text/x-python",
   "name": "python",
   "nbconvert_exporter": "python",
   "pygments_lexer": "ipython3",
   "version": "3.10.12"
  }
 },
 "nbformat": 4,
 "nbformat_minor": 2
}
